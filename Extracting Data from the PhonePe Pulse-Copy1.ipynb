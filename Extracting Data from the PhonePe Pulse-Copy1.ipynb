{
 "cells": [
  {
   "cell_type": "markdown",
   "id": "e197a014",
   "metadata": {},
   "source": [
    "# Extracting Data from the PhonePe Pulse"
   ]
  },
  {
   "cell_type": "markdown",
   "id": "88cf2c29",
   "metadata": {},
   "source": [
    "## aggregated\\transaction"
   ]
  },
  {
   "cell_type": "code",
   "execution_count": null,
   "id": "43a9e799",
   "metadata": {},
   "outputs": [],
   "source": [
    "# 01 \n",
    "\n",
    "import pandas as pd\n",
    "import json\n",
    "import os\n",
    "#\n",
    "agg_col={'State':[],'Year':[],'Quarter':[],'Transaction_type':[],'Transaction_count':[],'Transaction_amount':[]}\n",
    "\n",
    "path=r\"C:\\Users\\palla\\Downloads\\Datasets\\pulse-master\\pulse-master\\data\\aggregated\\transaction\\country\\india\\state\"\n",
    "\n",
    "agg_content=os.listdir(path)\n",
    "\n",
    "for i in agg_content:\n",
    "    state_i=os.path.join(path,i)\n",
    "    for j in os.listdir(state_i):\n",
    "        year_j=os.path.join(state_i,j)\n",
    "        for k in os.listdir(year_j):\n",
    "            quat_k=os.path.join(year_j,k)\n",
    "            with open(quat_k) as f:\n",
    "                data=json.load(f)\n",
    "                for L in data['data']['transactionData']:\n",
    "                   Name=L['name']\n",
    "                   Count=L['paymentInstruments'][0]['count']\n",
    "                   Amount=L['paymentInstruments'][0]['amount']\n",
    "                   agg_col['State'].append(i)\n",
    "                   agg_col['Year'].append(j)\n",
    "                   agg_col['Quarter'].append(int(k.strip('.json')))\n",
    "                   agg_col['Transaction_type'].append(Name)\n",
    "                   agg_col['Transaction_count'].append(Count)\n",
    "                   agg_col['Transaction_amount'].append(Amount)\n",
    "                \n",
    "                    \n",
    "agg_dataframe=pd.DataFrame(agg_col)       \n",
    "#"
   ]
  },
  {
   "cell_type": "code",
   "execution_count": null,
   "id": "c3f56177",
   "metadata": {},
   "outputs": [],
   "source": [
    "agg_dataframe.to_csv('agg_trans_dataframe.csv',index=False)"
   ]
  },
  {
   "cell_type": "code",
   "execution_count": null,
   "id": "29198d2e",
   "metadata": {},
   "outputs": [],
   "source": [
    "agg_dataframe.head()"
   ]
  },
  {
   "cell_type": "markdown",
   "id": "f12a30bb",
   "metadata": {},
   "source": [
    "## aggregated\\user"
   ]
  },
  {
   "cell_type": "code",
   "execution_count": null,
   "id": "6a34df22",
   "metadata": {},
   "outputs": [],
   "source": [
    "# 02 \n",
    "\n",
    "agg_col={'State':[],'Year':[],'Quarter':[],'Device_Brands':[],'Counts':[],'Percentage':[]}\n",
    "\n",
    "path=r\"C:\\Users\\palla\\Downloads\\Datasets\\pulse-master\\pulse-master\\data\\aggregated\\user\\country\\india\\state\"\n",
    "\n",
    "agg_user=os.listdir(path)\n",
    "\n",
    "for i in agg_user:\n",
    "    state_i=os.path.join(path,i)\n",
    "    for j in os.listdir(state_i):\n",
    "        year_j=os.path.join(state_i,j)\n",
    "        for k in os.listdir(year_j):\n",
    "            quat_k=os.path.join(year_j,k)\n",
    "            with open(quat_k) as f:\n",
    "                data=json.load(f)\n",
    "                try:\n",
    "                    for L in data['data']['usersByDevice']:\n",
    "                       Brand=L['brand']\n",
    "                       Counts=L['count']\n",
    "                       Percentage=L['percentage']\n",
    "                       agg_col['State'].append(i)\n",
    "                       agg_col['Year'].append(j)\n",
    "                       agg_col['Quarter'].append(int(k.strip('.json')))\n",
    "                       agg_col['Device_Brands'].append(Brand)\n",
    "                       agg_col['Counts'].append(Counts)\n",
    "                       agg_col['Percentage'].append(Percentage)\n",
    "                except:\n",
    "                    pass\n",
    "                \n",
    "                    \n",
    "agg_user_dataframe=pd.DataFrame(agg_col)  "
   ]
  },
  {
   "cell_type": "code",
   "execution_count": null,
   "id": "c9fb084d",
   "metadata": {},
   "outputs": [],
   "source": [
    "agg_user_dataframe.to_csv('agg_user_dataframe.csv',index=False)"
   ]
  },
  {
   "cell_type": "code",
   "execution_count": null,
   "id": "3e31f98b",
   "metadata": {},
   "outputs": [],
   "source": [
    "agg_user_dataframe.head()"
   ]
  },
  {
   "cell_type": "markdown",
   "id": "52c1f5a2",
   "metadata": {},
   "source": [
    "## map\\transaction"
   ]
  },
  {
   "cell_type": "code",
   "execution_count": null,
   "id": "7376d37f",
   "metadata": {},
   "outputs": [],
   "source": [
    "# 03 \n",
    "\n",
    "map_trans={'State':[],'Year':[],'Quarter':[],'District':[],'Counts':[],'Amount':[]}\n",
    "\n",
    "path=r\"C:\\Users\\palla\\Downloads\\Datasets\\pulse-master\\pulse-master\\data\\map\\transaction\\hover\\country\\india\\state\"\n",
    "\n",
    "agg_user=os.listdir(path)\n",
    "\n",
    "for i in agg_user:\n",
    "    state_i=os.path.join(path,i)\n",
    "    for j in os.listdir(state_i):\n",
    "        year_j=os.path.join(state_i,j)\n",
    "        for k in os.listdir(year_j):\n",
    "            quat_k=os.path.join(year_j,k)\n",
    "            with open(quat_k) as f:\n",
    "                data=json.load(f)\n",
    "                try:\n",
    "                    for L in data['data']['hoverDataList']:\n",
    "                       Name=L['name']\n",
    "                       Counts=L['metric'][0]['count'] # it is in list format in json file so calling key as 'metric' and caaling index as [0] as it is single list and caaling the key  to srore the value of it in list\n",
    "                       Amount=L['metric'][0]['amount']\n",
    "                       map_trans['State'].append(i)\n",
    "                       map_trans['Year'].append(j)\n",
    "                       map_trans['Quarter'].append(int(k.strip('.json')))\n",
    "                       map_trans['District'].append(Name)\n",
    "                       map_trans['Counts'].append(Counts)\n",
    "                       map_trans['Amount'].append(Amount)\n",
    "                except:\n",
    "                    pass\n",
    "                \n",
    "                    \n",
    "map_trans_dataframe=pd.DataFrame(map_trans)"
   ]
  },
  {
   "cell_type": "code",
   "execution_count": null,
   "id": "84286744",
   "metadata": {},
   "outputs": [],
   "source": [
    "map_trans_dataframe.to_csv('map_trans_dataframe.csv',index=False)"
   ]
  },
  {
   "cell_type": "code",
   "execution_count": null,
   "id": "f58ed2c9",
   "metadata": {},
   "outputs": [],
   "source": [
    "map_trans_dataframe.head()"
   ]
  },
  {
   "cell_type": "markdown",
   "id": "43a274b2",
   "metadata": {},
   "source": [
    "## map\\user"
   ]
  },
  {
   "cell_type": "code",
   "execution_count": null,
   "id": "3af04b44",
   "metadata": {},
   "outputs": [],
   "source": [
    "# 04 \n",
    "\n",
    "map_user={'State':[],'Year':[],'Quarter':[],'District':[],'RegisteredUsers':[]}\n",
    "\n",
    "path=r\"C:\\Users\\palla\\Downloads\\Datasets\\pulse-master\\pulse-master\\data\\map\\user\\hover\\country\\india\\state\"\n",
    "\n",
    "agg_user=os.listdir(path)\n",
    "\n",
    "\n",
    "for i in agg_user:\n",
    "    state_i = os.path.join(path, i)\n",
    "    for j in os.listdir(state_i):\n",
    "        year_j = os.path.join(state_i, j)\n",
    "        for k in os.listdir(year_j):\n",
    "            quat_k = os.path.join(year_j, k)\n",
    "            with open(quat_k) as f:\n",
    "                data = json.load(f)\n",
    "                try:\n",
    "                    for L in data['data']['hoverData'].items(): # items() used to iterate key value in dict format df\n",
    "                        Name = L[0] # it is in dict format so to get the key  stored used this line\n",
    "                        Counts = L[1]['registeredUsers']# it is in dict format so to get the  value with particular category stored used this line\n",
    "                        map_user['State'].append(i)\n",
    "                        map_user['Year'].append(j)\n",
    "                        map_user['Quarter'].append(int(k.strip('.json')))\n",
    "                        map_user['District'].append(Name)\n",
    "                        map_user['RegisteredUsers'].append(Counts)\n",
    "                except:\n",
    "                    pass\n",
    "                    \n",
    "map_user_dataframe = pd.DataFrame(map_user)"
   ]
  },
  {
   "cell_type": "code",
   "execution_count": null,
   "id": "fe5aed82",
   "metadata": {},
   "outputs": [],
   "source": [
    "map_user_dataframe.to_csv('map_user_dataframe.csv',index=False)"
   ]
  },
  {
   "cell_type": "code",
   "execution_count": null,
   "id": "53125fe2",
   "metadata": {},
   "outputs": [],
   "source": [
    "map_user_dataframe.head()"
   ]
  },
  {
   "cell_type": "markdown",
   "id": "011a8b47",
   "metadata": {},
   "source": [
    "## top\\transaction"
   ]
  },
  {
   "cell_type": "code",
   "execution_count": null,
   "id": "8d356b70",
   "metadata": {},
   "outputs": [],
   "source": [
    "# 05 \n",
    "\n",
    "top_trans={'State':[],'Year':[],'Quarter':[],'Pincode':[],'Count':[],'Amount':[]}\n",
    "\n",
    "path=r\"C:\\Users\\palla\\Downloads\\Datasets\\pulse-master\\pulse-master\\data\\top\\transaction\\country\\india\\state\"\n",
    "\n",
    "agg_user=os.listdir(path)\n",
    "\n",
    "\n",
    "for i in agg_user:\n",
    "    state_i = os.path.join(path, i)\n",
    "    for j in os.listdir(state_i):\n",
    "        year_j = os.path.join(state_i, j)\n",
    "        for k in os.listdir(year_j):\n",
    "            quat_k = os.path.join(year_j, k)\n",
    "            with open(quat_k) as f:\n",
    "                data = json.load(f)\n",
    "                try:\n",
    "                    for L in data['data']['pincodes']:\n",
    "                        Name = L['entityName'] \n",
    "                        Counts = L['metric']['count']\n",
    "                        Amount = L['metric']['amount']\n",
    "                        top_trans['State'].append(i)\n",
    "                        top_trans['Year'].append(j)\n",
    "                        top_trans['Quarter'].append(int(k.strip('.json')))\n",
    "                        top_trans['Pincode'].append(Name)\n",
    "                        top_trans['Count'].append(Counts)\n",
    "                        top_trans['Amount'].append(Counts)\n",
    "                except:\n",
    "                    pass\n",
    "                    \n",
    "top_trans_dataframe = pd.DataFrame(top_trans)"
   ]
  },
  {
   "cell_type": "code",
   "execution_count": null,
   "id": "32e1becc",
   "metadata": {},
   "outputs": [],
   "source": [
    "top_trans_dataframe.to_csv('top_trans_dataframe.csv',index=False)"
   ]
  },
  {
   "cell_type": "code",
   "execution_count": null,
   "id": "319b1490",
   "metadata": {},
   "outputs": [],
   "source": [
    "top_trans_dataframe.head()"
   ]
  },
  {
   "cell_type": "markdown",
   "id": "65dbdcdc",
   "metadata": {},
   "source": [
    "## top\\user"
   ]
  },
  {
   "cell_type": "code",
   "execution_count": null,
   "id": "d16d215b",
   "metadata": {},
   "outputs": [],
   "source": [
    "# 06 \n",
    "\n",
    "top_user={'State':[],'Year':[],'Quarter':[],'Pincode':[],'Registered_user':[]}\n",
    "\n",
    "path=r\"C:\\Users\\palla\\Downloads\\Datasets\\pulse-master\\pulse-master\\data\\top\\user\\country\\india\\state\"\n",
    "\n",
    "agg_user=os.listdir(path)\n",
    "\n",
    "\n",
    "for i in agg_user:\n",
    "    state_i = os.path.join(path, i)\n",
    "    for j in os.listdir(state_i):\n",
    "        year_j = os.path.join(state_i, j)\n",
    "        for k in os.listdir(year_j):\n",
    "            quat_k = os.path.join(year_j, k)\n",
    "            with open(quat_k) as f:\n",
    "                data = json.load(f)\n",
    "                try:\n",
    "                    for L in data['data']['pincodes']:\n",
    "                        pincode = L['name'] \n",
    "                        Counts = L['registeredUsers']\n",
    "                        top_user['State'].append(i)\n",
    "                        top_user['Year'].append(j)\n",
    "                        top_user['Quarter'].append(int(k.strip('.json')))\n",
    "                        top_user['Pincode'].append(pincode)\n",
    "                        top_user['Registered_user'].append(Counts)\n",
    "                      \n",
    "                except:\n",
    "                    pass\n",
    "                    \n",
    "top_user_dataframe = pd.DataFrame(top_user)"
   ]
  },
  {
   "cell_type": "code",
   "execution_count": null,
   "id": "01c6fe7c",
   "metadata": {},
   "outputs": [],
   "source": [
    "top_user_dataframe.to_csv('top_user_dataframe.csv',index=False)"
   ]
  },
  {
   "cell_type": "code",
   "execution_count": null,
   "id": "c634bc72",
   "metadata": {},
   "outputs": [],
   "source": [
    "top_user_dataframe.head()"
   ]
  },
  {
   "cell_type": "code",
   "execution_count": null,
   "id": "9b6a106f",
   "metadata": {},
   "outputs": [],
   "source": [
    "# agg_dataframe.to_csv('agg_dataframe.csv',index=False)\n",
    "# agg_user_dataframe.to_csv('agg_user_dataframe.csv',index=False)\n",
    "# map_trans_dataframe.to_csv('map_trans_dataframe.csv',index=False)\n",
    "# map_user_dataframe.to_csv('map_user_dataframe.csv',index=False)\n",
    "# top_trans_dataframe.to_csv('top_trans_dataframe.csv',index=False)\n",
    "# top_user_dataframe.to_csv('top_user_dataframe.csv',index=False)\n",
    "# --- #\n",
    "'''\n",
    "agg_dataframe.csv\n",
    "agg_user_dataframe.csv\n",
    "map_trans_dataframe.csv\n",
    "map_user_dataframe.csv\n",
    "top_trans_dataframe.csv\n",
    "top_user_dataframe.csv\n",
    "'''\n",
    "# --- #\n",
    "'''\n",
    "agg_dataframe\n",
    "agg_user_dataframe\n",
    "map_trans_dataframe\n",
    "map_user_dataframe\n",
    "top_trans_dataframe\n",
    "top_user_dataframe\n",
    "'''\n",
    "# --- #"
   ]
  },
  {
   "cell_type": "markdown",
   "id": "116f1971",
   "metadata": {},
   "source": [
    "# Python & MySQL connectivity"
   ]
  },
  {
   "cell_type": "code",
   "execution_count": null,
   "id": "2f68b241",
   "metadata": {},
   "outputs": [],
   "source": [
    "import mysql.connector as mysql\n",
    "from mysql.connector import Error\n",
    "import sqlalchemy\n",
    "from sqlalchemy import create_engine\n",
    "import pymysql\n",
    "from pymysql import connect\n",
    "import os"
   ]
  },
  {
   "cell_type": "code",
   "execution_count": null,
   "id": "ff2230bb",
   "metadata": {},
   "outputs": [],
   "source": [
    "import pandas as pd\n",
    "import numpy as np"
   ]
  },
  {
   "cell_type": "code",
   "execution_count": null,
   "id": "e07525f3",
   "metadata": {},
   "outputs": [],
   "source": [
    "empdata = pd.read_csv(r\"C:\\Users\\palla\\Downloads\\Datasets\\agg_trans_dataframe.csv\", index_col=False, delimiter = ',')"
   ]
  },
  {
   "cell_type": "code",
   "execution_count": null,
   "id": "ef0e4b5c",
   "metadata": {
    "scrolled": true
   },
   "outputs": [],
   "source": [
    "empdata.head()"
   ]
  },
  {
   "cell_type": "code",
   "execution_count": null,
   "id": "62155bcd",
   "metadata": {},
   "outputs": [],
   "source": [
    "empdata.dtypes"
   ]
  },
  {
   "cell_type": "code",
   "execution_count": null,
   "id": "75b65a86",
   "metadata": {},
   "outputs": [],
   "source": [
    "try:\n",
    "    conn = mysql.connect(host='127.0.0.1',\n",
    "                        user = 'root',\n",
    "                        password = 'Pallavi@1997',\n",
    "                        auth_plugin='mysql_native_password'\n",
    "                        )\n",
    "    if conn.is_connected():\n",
    "        cursor = conn.cursor()\n",
    "        cursor.execute(\"Create Database P_01\")\n",
    "        print(\"Database is created\")\n",
    "except Error as e:\n",
    "        print(\"Error while connecting to Mysql\", e)"
   ]
  },
  {
   "cell_type": "code",
   "execution_count": null,
   "id": "69cf57c9",
   "metadata": {},
   "outputs": [],
   "source": [
    "try:\n",
    "    conn = mysql.connect(host='127.0.0.1',\n",
    "                        user = 'root',\n",
    "                        password = 'Pallavi@1997',\n",
    "                        auth_plugin='mysql_native_password',\n",
    "                        database = 'P_01'\n",
    "                        )\n",
    "    if conn.is_connected():\n",
    "        cursor = conn.cursor()\n",
    "        cursor.execute(\"select database();\")\n",
    "        record = cursor.fetchone()\n",
    "        print(\"You're connected to database: \", record)\n",
    "        cursor.execute('Drop TABLE IF EXISTS empdata;')\n",
    "        print('Creating table.....')\n",
    "        \n",
    "        cursor.execute(''' \n",
    "        Create table empdata(\n",
    "         State VARCHAR(255),\n",
    "         Year INT,\n",
    "         Quarter INT,\n",
    "         Device_Brands VARCHAR(255),\n",
    "         Counts INT,\n",
    "         Percentage FLOAT)\n",
    "        ''')\n",
    "            \n",
    "        print(\"Table is created...\")\n",
    "        \n",
    "        for i,row in empdata.iterrows():\n",
    "            \n",
    "            sql = \"Insert into empdata Values(%s,%s,%s,%s,%s,%s)\"\n",
    "            cursor.execute(sql,tuple(row))\n",
    "            print(\"Record inserted\")\n",
    "            conn.commit()\n",
    "except Error as e:\n",
    "            print(\"Error while connecting to Mysql\", e)"
   ]
  },
  {
   "cell_type": "code",
   "execution_count": null,
   "id": "5be5b431",
   "metadata": {},
   "outputs": [],
   "source": [
    "sql = \"Select * from p_01.empdata\"\n",
    "cursor.execute(sql)\n",
    "result = cursor.fetchall()\n",
    "for i in result:\n",
    "    print(i)"
   ]
  },
  {
   "cell_type": "code",
   "execution_count": null,
   "id": "244409a2",
   "metadata": {},
   "outputs": [],
   "source": [
    "empdata2 = pd.read_csv(r\"C:\\Users\\palla\\Downloads\\Datasets\\agg_user_dataframe.csv\", index_col=False, delimiter = ',')\n",
    "empdata2.head()"
   ]
  },
  {
   "cell_type": "code",
   "execution_count": null,
   "id": "14082734",
   "metadata": {},
   "outputs": [],
   "source": [
    "try:\n",
    "    conn = mysql.connect(host='127.0.0.1',\n",
    "                        user = 'root',\n",
    "                        password = 'Pallavi@1997',\n",
    "                        auth_plugin='mysql_native_password',\n",
    "                        database = 'P_01'\n",
    "                        )\n",
    "    if conn.is_connected():\n",
    "        cursor = conn.cursor()\n",
    "        cursor.execute(\"select database();\")\n",
    "        record = cursor.fetchone()\n",
    "        print(\"You're connected to database: \", record)\n",
    "        cursor.execute('Drop TABLE IF EXISTS empdata2;')\n",
    "        print('Creating table.....')\n",
    "        \n",
    "        cursor.execute(''' \n",
    "        Create table empdata2(\n",
    "         State VARCHAR(255),\n",
    "         Year INT,\n",
    "         Quarter INT,\n",
    "         Device_Brands VARCHAR(255),\n",
    "         Counts INT,\n",
    "         Percentage FLOAT)\n",
    "        ''')\n",
    "            \n",
    "        print(\"Table is created...\")\n",
    "        \n",
    "        for i,row in empdata2.iterrows():\n",
    "            \n",
    "            sql = \"Insert into empdata2 Values(%s,%s,%s,%s,%s,%s)\"\n",
    "            cursor.execute(sql,tuple(row))\n",
    "            print(\"Record inserted\")\n",
    "            conn.commit()\n",
    "except Error as e:\n",
    "            print(\"Error while connecting to Mysql\", e)"
   ]
  },
  {
   "cell_type": "code",
   "execution_count": null,
   "id": "28b68910",
   "metadata": {},
   "outputs": [],
   "source": [
    "sql = \"Select * from p_01.empdata2\"\n",
    "cursor.execute(sql)\n",
    "result = cursor.fetchall()\n",
    "for i in result:\n",
    "    print(i)"
   ]
  },
  {
   "cell_type": "code",
   "execution_count": null,
   "id": "44294112",
   "metadata": {},
   "outputs": [],
   "source": [
    "empdata3 = pd.read_csv(r\"C:\\Users\\palla\\Downloads\\Datasets\\map_trans_dataframe.csv\", index_col=False, delimiter = ',')\n",
    "empdata3.head()"
   ]
  },
  {
   "cell_type": "code",
   "execution_count": null,
   "id": "36d110c7",
   "metadata": {},
   "outputs": [],
   "source": [
    "try:\n",
    "    conn = mysql.connect(host='127.0.0.1',\n",
    "                        user = 'root',\n",
    "                        password = 'Pallavi@1997',\n",
    "                        auth_plugin='mysql_native_password',\n",
    "                        database = 'P_01'\n",
    "                        )\n",
    "    if conn.is_connected():\n",
    "        cursor = conn.cursor()\n",
    "        cursor.execute(\"select database();\")\n",
    "        record = cursor.fetchone()\n",
    "        print(\"You're connected to database: \", record)\n",
    "        cursor.execute('Drop TABLE IF EXISTS empdata3;')\n",
    "        print('Creating table.....')\n",
    "        \n",
    "        cursor.execute(''' \n",
    "        Create table empdata3(\n",
    "          State VARCHAR(255),\n",
    "          Year INT,\n",
    "          Quarter INT,\n",
    "          District VARCHAR(255),\n",
    "          Counts INT,\n",
    "          Amount FLOAT)\n",
    "        ''')\n",
    "            \n",
    "        print(\"Table is created...\")\n",
    "        \n",
    "        for i,row in empdata3.iterrows():\n",
    "            \n",
    "            sql = \"Insert into empdata3 Values(%s,%s,%s,%s,%s,%s)\"\n",
    "            cursor.execute(sql,tuple(row))\n",
    "            print(\"Record inserted\")\n",
    "            conn.commit()\n",
    "except Error as e:\n",
    "            print(\"Error while connecting to Mysql\", e)"
   ]
  },
  {
   "cell_type": "code",
   "execution_count": null,
   "id": "fead5013",
   "metadata": {},
   "outputs": [],
   "source": [
    "sql = \"Select * from p_01.empdata3\"\n",
    "cursor.execute(sql)\n",
    "result = cursor.fetchall()\n",
    "for i in result:\n",
    "    print(i)"
   ]
  },
  {
   "cell_type": "code",
   "execution_count": null,
   "id": "0dad891d",
   "metadata": {},
   "outputs": [],
   "source": [
    "empdata4 = pd.read_csv(r\"C:\\Users\\palla\\Downloads\\Datasets\\map_user_dataframe.csv\")\n",
    "empdata4"
   ]
  },
  {
   "cell_type": "code",
   "execution_count": null,
   "id": "db5a01e1",
   "metadata": {},
   "outputs": [],
   "source": [
    "try:\n",
    "    conn = mysql.connect(host='127.0.0.1',\n",
    "                        user = 'root',\n",
    "                        password = 'Pallavi@1997',\n",
    "                        auth_plugin='mysql_native_password',\n",
    "                        database = 'P_01'\n",
    "                        )\n",
    "    if conn.is_connected():\n",
    "        cursor = conn.cursor()\n",
    "        cursor.execute(\"select database();\")\n",
    "        record = cursor.fetchone()\n",
    "        print(\"You're connected to database: \", record)\n",
    "        cursor.execute('Drop TABLE IF EXISTS empdata4;')\n",
    "        print('Creating table.....')\n",
    "        \n",
    "        cursor.execute(''' \n",
    "        Create table empdata4(\n",
    "          State VARCHAR(255),\n",
    "          Year INT,\n",
    "          Quarter INT,\n",
    "          District VARCHAR(255),\n",
    "          RegisteredUsers INT)\n",
    "        ''')\n",
    "            \n",
    "        print(\"Table is created...\")\n",
    "        \n",
    "        for i,row in empdata4.iterrows():\n",
    "            \n",
    "            sql = \"Insert into empdata4 Values(%s,%s,%s,%s,%s,%s)\"\n",
    "            cursor.execute(sql,tuple(row))\n",
    "            print(\"Record inserted\")\n",
    "            conn.commit()\n",
    "except Error as e:\n",
    "            print(\"Error while connecting to Mysql\", e)"
   ]
  },
  {
   "cell_type": "code",
   "execution_count": null,
   "id": "0a4f9cd9",
   "metadata": {},
   "outputs": [],
   "source": [
    "sql = \"Select * from p_01.empdata4\"\n",
    "cursor.execute(sql)\n",
    "result = cursor.fetchall()\n",
    "for i in result:\n",
    "    print(i)"
   ]
  },
  {
   "cell_type": "code",
   "execution_count": null,
   "id": "1c15479f",
   "metadata": {},
   "outputs": [],
   "source": [
    "empdata5 = pd.read_csv(r\"C:\\Users\\palla\\Downloads\\Datasets\\top_trans_dataframe.csv\", index_col=False, delimiter = ',')\n",
    "empdata5.head()"
   ]
  },
  {
   "cell_type": "code",
   "execution_count": null,
   "id": "be0deaa5",
   "metadata": {},
   "outputs": [],
   "source": [
    "try:\n",
    "    conn = mysql.connect(host='127.0.0.1',\n",
    "                        user = 'root',\n",
    "                        password = 'Pallavi@1997',\n",
    "                        auth_plugin='mysql_native_password',\n",
    "                        database = 'P_01'\n",
    "                        )\n",
    "    if conn.is_connected():\n",
    "        cursor = conn.cursor()\n",
    "        cursor.execute(\"select database();\")\n",
    "        record = cursor.fetchone()\n",
    "        print(\"You're connected to database: \", record)\n",
    "        cursor.execute('Drop TABLE IF EXISTS empdata5;')\n",
    "        print('Creating table.....')\n",
    "        \n",
    "        cursor.execute(''' \n",
    "        Create table empdata5(\n",
    "          State VARCHAR(255),\n",
    "          Year INT,\n",
    "          Quarter INT,\n",
    "          Pincode INT,\n",
    "          Count INT,\n",
    "          Amount FLOAT)\n",
    "        ''')\n",
    "            \n",
    "        print(\"Table is created...\")\n",
    "        \n",
    "        for i,row in empdata5.iterrows():\n",
    "            \n",
    "            sql = \"Insert into empdata5 Values(%s,%s,%s,%s,%s,%s)\"\n",
    "            cursor.execute(sql,tuple(row))\n",
    "            print(\"Record inserted\")\n",
    "            conn.commit()\n",
    "except Error as e:\n",
    "            print(\"Error while connecting to Mysql\", e)"
   ]
  },
  {
   "cell_type": "code",
   "execution_count": null,
   "id": "d7dd2b77",
   "metadata": {},
   "outputs": [],
   "source": [
    "sql = \"Select * from p_01.empdata5\"\n",
    "cursor.execute(sql)\n",
    "result = cursor.fetchall()\n",
    "for i in result:\n",
    "    print(i)"
   ]
  },
  {
   "cell_type": "code",
   "execution_count": null,
   "id": "04f1bb44",
   "metadata": {},
   "outputs": [],
   "source": [
    "empdata6 = pd.read_csv(r\"C:\\Users\\palla\\Downloads\\Datasets\\top_user_dataframe.csv\", index_col=False, delimiter = ',')\n",
    "empdata6.head()"
   ]
  },
  {
   "cell_type": "code",
   "execution_count": null,
   "id": "907f1b93",
   "metadata": {},
   "outputs": [],
   "source": [
    "try:\n",
    "    conn = mysql.connect(host='127.0.0.1',\n",
    "                        user = 'root',\n",
    "                        password = 'Pallavi@1997',\n",
    "                        auth_plugin='mysql_native_password',\n",
    "                        database = 'P_01'\n",
    "                        )\n",
    "    if conn.is_connected():\n",
    "        cursor = conn.cursor()\n",
    "        cursor.execute(\"select database();\")\n",
    "        record = cursor.fetchone()\n",
    "        print(\"You're connected to database: \", record)\n",
    "        cursor.execute('Drop TABLE IF EXISTS empdata5;')\n",
    "        print('Creating table.....')\n",
    "        \n",
    "        cursor.execute(''' \n",
    "        Create table empdata6(\n",
    "          State VARCHAR(255),\n",
    "          Year INT,\n",
    "          Quarter INT,\n",
    "          Pincode INT,\n",
    "          Registered_user INT)\n",
    "        ''')\n",
    "            \n",
    "        print(\"Table is created...\")\n",
    "        \n",
    "        for i,row in empdata6.iterrows():\n",
    "            \n",
    "            sql = \"Insert into empdata6 Values(%s,%s,%s,%s,%s,%s)\"\n",
    "            cursor.execute(sql,tuple(row))\n",
    "            print(\"Record inserted\")\n",
    "            conn.commit()\n",
    "except Error as e:\n",
    "            print(\"Error while connecting to Mysql\", e)"
   ]
  },
  {
   "cell_type": "code",
   "execution_count": null,
   "id": "061537e8",
   "metadata": {},
   "outputs": [],
   "source": [
    "sql = \"Select * from p_01.empdata6\"\n",
    "cursor.execute(sql)\n",
    "result = cursor.fetchall()\n",
    "for i in result:\n",
    "    print(i)"
   ]
  },
  {
   "cell_type": "code",
   "execution_count": null,
   "id": "33cab9e0",
   "metadata": {},
   "outputs": [],
   "source": []
  }
 ],
 "metadata": {
  "kernelspec": {
   "display_name": "Python 3 (ipykernel)",
   "language": "python",
   "name": "python3"
  },
  "language_info": {
   "codemirror_mode": {
    "name": "ipython",
    "version": 3
   },
   "file_extension": ".py",
   "mimetype": "text/x-python",
   "name": "python",
   "nbconvert_exporter": "python",
   "pygments_lexer": "ipython3",
   "version": "3.11.3"
  }
 },
 "nbformat": 4,
 "nbformat_minor": 5
}
